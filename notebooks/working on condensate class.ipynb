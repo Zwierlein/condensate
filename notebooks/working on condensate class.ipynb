{
 "cells": [
  {
   "cell_type": "code",
   "execution_count": null,
   "metadata": {},
   "outputs": [
    {
     "data": {
      "text/html": [
       "<script>Jupyter.notebook.kernel.restart()</script>"
      ]
     },
     "metadata": {},
     "output_type": "display_data"
    }
   ],
   "source": [
    "from IPython.display import display_html\n",
    "def restartkernel(): display_html(\"<script>Jupyter.notebook.kernel.restart()</script>\",raw=True)\n",
    "try: restartkernel()\n",
    "except: pass"
   ]
  },
  {
   "cell_type": "code",
   "execution_count": 3,
   "metadata": {},
   "outputs": [],
   "source": [
    "import sys, os\n",
    "sys.path.append(os.path.abspath('..'))"
   ]
  },
  {
   "cell_type": "code",
   "execution_count": 33,
   "metadata": {},
   "outputs": [],
   "source": [
    "from condensate.core import gpcore\n",
    "import numpy as np\n",
    "import matplotlib.pyplot as plt\n",
    "from copy import copy, deepcopy\n",
    "%matplotlib inline\n",
    "\n",
    "from tqdm.notebook import tqdm\n",
    "import time\n",
    "import h5py\n",
    "import pandas as pd\n",
    "from scipy.ndimage import rotate as rotate_image\n",
    "from scipy.optimize import curve_fit\n",
    "import matplotlib.animation as animation\n",
    "from IPython.display import HTML"
   ]
  },
  {
   "cell_type": "code",
   "execution_count": 34,
   "metadata": {},
   "outputs": [],
   "source": [
    "# constants\n",
    "hbar = 1.05e-34\n",
    "a0 = 5.3e-11"
   ]
  },
  {
   "cell_type": "code",
   "execution_count": null,
   "metadata": {},
   "outputs": [],
   "source": [
    "class Environment():\n",
    "    def __init__(self, DIM=512, fov=)"
   ]
  },
  {
   "cell_type": "code",
   "execution_count": 35,
   "metadata": {},
   "outputs": [],
   "source": [
    "class Wavefunction():\n",
    "    def __init__(self, DIM=512, fov=400e-6, N=1e6, omegaz=10, a_s=100*a0, mass=3.8e-26):\n",
    "        self.DIM = DIM\n",
    "        self.fov = fov\n",
    "        self.N = N\n",
    "        self._omegaz = omegaz\n",
    "        self.a_s = a_s\n",
    "        self.mass = mass\n",
    "        self.g = N* 4 * np.pi * (hbar**2) * (a_s  / mass)\n",
    "        self.g *= np.sqrt(mass * omegaz / (2*np.pi*hbar))\n",
    "        self.omega = 2*np.pi\n",
    "        self.epsilon = 0\n",
    "        self.lb = np.sqrt(hbar / (2*mass *self.omega))\n",
    "        \n",
    "        self.Psi = (1+0.j)*np.zeros((DIM,DIM))\n",
    "        self.V = np.zeros((DIM,DIM))\n",
    "        self.initialize_Psi()\n",
    "        self.reference_frame = {'rotating': False, 'omegaR': [self.omega]}\n",
    "        self.absorber = {'on': False, 'strength': 1, 'radius': self.fov/2}\n",
    "        self.edge = {'on': False, 'strength': 5, 'radius': self.fov/2, 'width':self.fov/20}\n",
    "        self.spoon = {\n",
    "            'type': None, 'strength':1e5, 'radius': 20e-6,\n",
    "            'leapx': -250, 'leapy': -500, 'leapxscale': 1, 'leapyscale': 1, 'zcontrol': False\n",
    "        }\n",
    "        \n",
    "        print(f'''\n",
    "            Running condensate on {DIM}x{DIM} grid with:\n",
    "            atom number: {N:.0e} \n",
    "            mass:        {mass:.2e}\n",
    "        ''')\n",
    "        \n",
    "        \n",
    "    @property\n",
    "    def density(self):\n",
    "        self._density = np.abs(self.Psi) ** 2\n",
    "        return self._density\n",
    "    \n",
    "    @property\n",
    "    def phase(self):\n",
    "        self._phase = np.angle(self.Psi)\n",
    "        return self._phase\n",
    "    \n",
    "        \n",
    "    def show_density(self,):\n",
    "        a = plt.imshow(self.density)\n",
    "        plt.colorbar()\n",
    "        plt.show()\n",
    "        \n",
    "    def show_phase(self,):\n",
    "        a = plt.imshow(self.phase)\n",
    "        plt.colorbar()\n",
    "        plt.show()\n",
    "        \n",
    "    def show_potential(self, frame='auto'):\n",
    "        if (frame=='auto' and self.reference_frame['rotating']) or (frame=='rotating'):\n",
    "            omega = self.reference_frame['omegaR'][-1]\n",
    "            for i in range(DIM):\n",
    "                for j in range(DIM):\n",
    "                    x = (i-DIM//2)*fov / DIM\n",
    "                    y = (j-DIM//2)*fov / DIM\n",
    "                    rsq = x**2 + y**2\n",
    "                    centrif = 0.5 * mass * (omega**2) * rsq\n",
    "                    self.V[i,j] -= centrif/hbar\n",
    "        a = plt.contour(self.V)\n",
    "        plt.gca().set_aspect('equal', 'box')\n",
    "        plt.show()\n",
    "        \n",
    "    def initialize_Psi(self, width=100, vortexnumber=0):\n",
    "        DIM = self.DIM\n",
    "        x = (1+0.j)*np.zeros((DIM,DIM))\n",
    "        for i in range(DIM):\n",
    "            for j in range(DIM):\n",
    "                phase = 1\n",
    "                if vortexnumber:\n",
    "                    phi = vortexnumber * np.arctan2((i-DIM//2), (j-DIM//2))\n",
    "                    phase = np.exp(1.j * np.mod(phi,2*np.pi))\n",
    "                self.Psi[i,j] = np.exp(-( (i-DIM//2)/width)** 2.  -  ((j-DIM//2)/width)** 2. ) + 1.j\n",
    "                self.Psi[i,j] *= phase\n",
    "        \n",
    "    def harmonic_potential(self, omega, epsilon):\n",
    "        self.omega = omega\n",
    "        self.lb = np.sqrt(hbar / (2* self.mass *omega))\n",
    "        self.epsilon = epsilon\n",
    "        self.omegaz(np.sqrt(8) * omega)\n",
    "            \n",
    "    def omegaz(self, omegaz):\n",
    "        self._omegaz = omegaz\n",
    "        self.g = self.N* 4 * np.pi * (hbar**2) * (self.a_s  / self.mass)\n",
    "        self.g *= np.sqrt(self.mass * omegaz / (2*np.pi*hbar))\n",
    "        return self._omegaz\n",
    "    \n",
    "    def rotating_frame(self, omegaR):\n",
    "        self.reference_frame = {'rotating': True, 'omegaR': omegaR}\n",
    "    \n",
    "    def lab_frame(self):\n",
    "        self.reference_frame['rotating'] = False\n",
    "            \n",
    "    def absorbing_boundaries(self, strength, radius):\n",
    "        self.absorber = {'on': True, 'strength': strength, 'radius': radius}\n",
    "    \n",
    "    def no_absorbing_boundaries(self):\n",
    "        self.absorber['on'] = False\n",
    "        \n",
    "    def edge(self, strength, radius, width):\n",
    "        self.edge = {'on': False, 'strength': strength, 'radius': radius, 'width': width}\n",
    "    \n",
    "    def no_edge(self):\n",
    "        self.edge['on'] = False\n",
    "    \n",
    "    def relax(self, **kwargs):\n",
    "        kwargs['imaginary_time'] = True\n",
    "        self.evolve(**kwargs)\n",
    "\n",
    "    def __copy__(self):\n",
    "        cls = self.__class__\n",
    "        result = cls.__new__(cls)\n",
    "        result.__dict__.update(self.__dict__)\n",
    "        return result\n",
    "\n",
    "    def __deepcopy__(self, memo):\n",
    "        cls = self.__class__\n",
    "        result = cls.__new__(cls)\n",
    "        memo[id(self)] = result\n",
    "        for k, v in self.__dict__.items():\n",
    "            setattr(result, k, deepcopy(v, memo))\n",
    "        return result\n",
    "        \n",
    "    \n",
    "    \n",
    "    def evolve(self, dt=1e-4, steps=1000, imaginary_time=False, cooling=0.01,\n",
    "               showevery=40, show=True, vmax='auto'):\n",
    "        \n",
    "        gpcore.Setup(self.DIM, self.fov, self.g, dt, imaginary_time, cooling)\n",
    "        \n",
    "        gpcore.SetHarmonicPotential(self.omega, self.epsilon)\n",
    "        \n",
    "        if self.edge['on']:\n",
    "            gpcore.SetEdgePotential(self.edge['strength'], self.edge['radius'], self.edge['width'])\n",
    "            \n",
    "        gpcore.GetPotential(self.V)\n",
    "        \n",
    "        if self.absorber['on']:\n",
    "            gpcore.AbsorbingBoundaryConditions(self.absorber['strength'], self.absorber['radius'])\n",
    "        \n",
    "        if self.reference_frame['rotating']:\n",
    "            omegaR = self.reference_frame['omegaR']\n",
    "            if (steps!=0) and (len(omegaR)!=steps): \n",
    "                raise ValueError('Check the length of omegaR (it should be steps)')\n",
    "            gpcore.RotatingFrame(omegaR)\n",
    "        \n",
    "        if self.spoon['type']=='mouse':\n",
    "            gpcore.SetupSpoon(self.spoon['strength'], self.spoon['radius'])\n",
    "        elif self.spoon['type']=='leap':\n",
    "            gpcore.SetupSpoon(self.spoon['strength'], self.spoon['radius'])\n",
    "            gpcore.SetupLeapMotion(self.spoon['leapx'], \n",
    "                                   self.spoon['leapy'],\n",
    "                                   self.spoon['leapxscale'], \n",
    "                                   self.spoon['leapyscale'],\n",
    "                                   self.spoon['zcontrol'])\n",
    "            \n",
    "        if vmax=='auto': vmax=np.max(self.density)\n",
    "            \n",
    "        gpcore.Evolve(self.Psi, int(steps), int(showevery), show, vmax)\n"
   ]
  },
  {
   "cell_type": "markdown",
   "metadata": {},
   "source": [
    "# Geometric squeezing"
   ]
  },
  {
   "cell_type": "code",
   "execution_count": 36,
   "metadata": {},
   "outputs": [
    {
     "name": "stdout",
     "output_type": "stream",
     "text": [
      "\n",
      "            Running condensate on 512x512 grid with:\n",
      "            atom number: 1e+06 \n",
      "            mass:        3.80e-26\n",
      "        \n"
     ]
    }
   ],
   "source": [
    "omega = 2*np.pi*10\n",
    "dt = 1e-5\n",
    "\n",
    "c = Wavefunction(DIM=512, fov=300e-6, N=1e6)"
   ]
  },
  {
   "cell_type": "code",
   "execution_count": 38,
   "metadata": {},
   "outputs": [
    {
     "data": {
      "image/png": "[encoded data removed]",
      "text/plain": [
       "<Figure size 432x288 with 2 Axes>"
      ]
     },
     "metadata": {
      "needs_background": "light"
     },
     "output_type": "display_data"
    }
   ],
   "source": [
    "c.harmonic_potential(omega=omega, epsilon=0.4)\n",
    "c.relax(vmax=3e8, dt=dt, steps=10000)\n",
    "crelaxed = deepcopy(c)\n",
    "c.show_density()"
   ]
  },
  {
   "cell_type": "code",
   "execution_count": 28,
   "metadata": {},
   "outputs": [
    {
     "data": {
      "image/png": "[encoded data removed]",
      "text/plain": [
       "<Figure size 432x288 with 1 Axes>"
      ]
     },
     "metadata": {
      "needs_background": "light"
     },
     "output_type": "display_data"
    }
   ],
   "source": [
    "whirrMax = omega\n",
    "steps = 30000\n",
    "whirrtime = 30000\n",
    "times = np.arange(steps)\n",
    "Omega = [np.min([whirrMax, omega * 1.001 * np.tanh(3.3 * t / whirrtime)]) for t in times]\n",
    "\n",
    "plt.plot(5e-6*times, Omega)\n",
    "plt.axhline(Omega[-1],ls='--',c='k')\n",
    "plt.show()"
   ]
  },
  {
   "cell_type": "code",
   "execution_count": 30,
   "metadata": {},
   "outputs": [],
   "source": [
    "crelaxed.rotating_frame(omegaR=Omega)\n",
    "crelaxed.absorbing_boundaries(strength=1, radius=c.fov/2)\n",
    "crelaxed.evolve(dt=dt, steps=steps, cooling=0)"
   ]
  },
  {
   "cell_type": "code",
   "execution_count": 31,
   "metadata": {},
   "outputs": [
    {
     "data": {
      "image/png": "[encoded data removed]",
      "text/plain": [
       "<Figure size 432x288 with 2 Axes>"
      ]
     },
     "metadata": {
      "needs_background": "light"
     },
     "output_type": "display_data"
    }
   ],
   "source": [
    "\n",
    "c.show_density()"
   ]
  },
  {
   "cell_type": "code",
   "execution_count": 18,
   "metadata": {},
   "outputs": [],
   "source": []
  },
  {
   "cell_type": "code",
   "execution_count": 17,
   "metadata": {},
   "outputs": [],
   "source": [
    "c.lab_frame()"
   ]
  },
  {
   "cell_type": "code",
   "execution_count": 63,
   "metadata": {},
   "outputs": [],
   "source": [
    "c.harmonic_potential(c.omega,0.2)"
   ]
  },
  {
   "cell_type": "code",
   "execution_count": 56,
   "metadata": {},
   "outputs": [
    {
     "data": {
      "text/plain": [
       "0.7511255444649425"
      ]
     },
     "execution_count": 56,
     "metadata": {},
     "output_type": "execute_result"
    }
   ],
   "source": [
    "np.pi**(-0.25)"
   ]
  },
  {
   "cell_type": "code",
   "execution_count": null,
   "metadata": {},
   "outputs": [],
   "source": []
  }
 ],
 "metadata": {
  "kernelspec": {
   "display_name": "Python 3",
   "language": "python",
   "name": "python3"
  },
  "language_info": {
   "codemirror_mode": {
    "name": "ipython",
    "version": 3
   },
   "file_extension": ".py",
   "mimetype": "text/x-python",
   "name": "python",
   "nbconvert_exporter": "python",
   "pygments_lexer": "ipython3",
   "version": "3.6.9"
  },
  "toc": {
   "base_numbering": 1,
   "nav_menu": {},
   "number_sections": true,
   "sideBar": true,
   "skip_h1_title": false,
   "title_cell": "Table of Contents",
   "title_sidebar": "Contents",
   "toc_cell": false,
   "toc_position": {},
   "toc_section_display": true,
   "toc_window_display": false
  }
 },
 "nbformat": 4,
 "nbformat_minor": 2
}
