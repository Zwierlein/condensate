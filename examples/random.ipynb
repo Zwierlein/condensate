{
 "cells": [
  {
   "cell_type": "markdown",
   "metadata": {},
   "source": [
    "# Operator overloading in python"
   ]
  },
  {
   "cell_type": "code",
   "execution_count": 1,
   "metadata": {},
   "outputs": [],
   "source": [
    "class Planet:\n",
    "    def __init__(self, moons):\n",
    "        self.moons = moons\n",
    "    \n",
    "    def __add__(self, newplanet):\n",
    "        newmoons = self.moons + newplanet.moons\n",
    "        return Planet(moons=newmoons)"
   ]
  },
  {
   "cell_type": "code",
   "execution_count": 2,
   "metadata": {},
   "outputs": [],
   "source": [
    "p1 = Planet(['Gany', 'Titan'])\n",
    "p2 = Planet(['phobo', 'dimo'])"
   ]
  },
  {
   "cell_type": "code",
   "execution_count": 3,
   "metadata": {},
   "outputs": [],
   "source": [
    "p3 = p1+p2"
   ]
  },
  {
   "cell_type": "code",
   "execution_count": 4,
   "metadata": {},
   "outputs": [
    {
     "data": {
      "text/plain": [
       "['Gany', 'Titan', 'phobo', 'dimo']"
      ]
     },
     "execution_count": 4,
     "metadata": {},
     "output_type": "execute_result"
    }
   ],
   "source": [
    "p3.moons"
   ]
  },
  {
   "cell_type": "markdown",
   "metadata": {},
   "source": [
    "# GPcore Tests"
   ]
  },
  {
   "cell_type": "code",
   "execution_count": null,
   "metadata": {},
   "outputs": [
    {
     "data": {
      "text/html": [
       "<script>Jupyter.notebook.kernel.restart()</script>"
      ]
     },
     "metadata": {},
     "output_type": "display_data"
    }
   ],
   "source": [
    "from IPython.display import display_html\n",
    "def restartkernel() :\n",
    "    display_html(\"<script>Jupyter.notebook.kernel.restart()</script>\",raw=True)\n",
    "try:\n",
    "    restartkernel()\n",
    "except:\n",
    "    pass"
   ]
  },
  {
   "cell_type": "code",
   "execution_count": 1,
   "metadata": {},
   "outputs": [],
   "source": [
    "# %load_ext autoreload\n",
    "# %autoreload 2\n",
    "\n",
    "import sys, os\n",
    "sys.path.append(os.path.abspath('..'))\n",
    "\n",
    "from condensate.core import gpcore"
   ]
  },
  {
   "cell_type": "code",
   "execution_count": 2,
   "metadata": {},
   "outputs": [],
   "source": [
    "import numpy as np\n",
    "import matplotlib.pyplot as plt\n",
    "%matplotlib inline"
   ]
  },
  {
   "cell_type": "code",
   "execution_count": 3,
   "metadata": {},
   "outputs": [],
   "source": [
    "x = (1+0.j)*np.zeros((512,512))"
   ]
  },
  {
   "cell_type": "code",
   "execution_count": 4,
   "metadata": {},
   "outputs": [],
   "source": [
    "for i in range(512):\n",
    "    for j in range(512):\n",
    "        x[i,j] = np.exp(-( (i-590.)/200)** 2.  -  ((j-200.)/200)** 2. ) + 1.j;"
   ]
  },
  {
   "cell_type": "code",
   "execution_count": 5,
   "metadata": {},
   "outputs": [
    {
     "data": {
      "text/plain": [
       "<matplotlib.image.AxesImage at 0x7fc8626fa358>"
      ]
     },
     "execution_count": 5,
     "metadata": {},
     "output_type": "execute_result"
    },
    {
     "data": {
      "image/png": "[encoded data removed]",
      "text/plain": [
       "<Figure size 432x288 with 1 Axes>"
      ]
     },
     "metadata": {
      "needs_background": "light"
     },
     "output_type": "display_data"
    }
   ],
   "source": [
    "plt.imshow(np.real(x), vmax = 1)"
   ]
  },
  {
   "cell_type": "code",
   "execution_count": 6,
   "metadata": {},
   "outputs": [
    {
     "data": {
      "text/plain": [
       "array([[6.11304777e-05+1.j, 6.17433056e-05+1.j, 6.23591590e-05+1.j, ...,\n",
       "        1.52714574e-05+1.j, 1.50369508e-05+1.j, 1.48053049e-05+1.j],\n",
       "       [6.29591157e-05+1.j, 6.35902755e-05+1.j, 6.42245514e-05+1.j, ...,\n",
       "        1.57282830e-05+1.j, 1.54867614e-05+1.j, 1.52481862e-05+1.j],\n",
       "       [6.48392129e-05+1.j, 6.54892206e-05+1.j, 6.61424373e-05+1.j, ...,\n",
       "        1.61979640e-05+1.j, 1.59492301e-05+1.j, 1.57035305e-05+1.j],\n",
       "       ...,\n",
       "       [3.12226935e-01+1.j, 3.15356984e-01+1.j, 3.18502486e-01+1.j, ...,\n",
       "        7.79997233e-02+1.j, 7.68019691e-02+1.j, 7.56188264e-02+1.j],\n",
       "       [3.13486181e-01+1.j, 3.16628854e-01+1.j, 3.19787042e-01+1.j, ...,\n",
       "        7.83143048e-02+1.j, 7.71117200e-02+1.j, 7.59238056e-02+1.j],\n",
       "       [3.14734768e-01+1.j, 3.17889958e-01+1.j, 3.21060725e-01+1.j, ...,\n",
       "        7.86262237e-02+1.j, 7.74188491e-02+1.j, 7.62262033e-02+1.j]])"
      ]
     },
     "execution_count": 6,
     "metadata": {},
     "output_type": "execute_result"
    }
   ],
   "source": [
    "x"
   ]
  },
  {
   "cell_type": "code",
   "execution_count": 7,
   "metadata": {},
   "outputs": [],
   "source": [
    "gpcore.evolve(x)"
   ]
  },
  {
   "cell_type": "code",
   "execution_count": 8,
   "metadata": {},
   "outputs": [
    {
     "data": {
      "text/plain": [
       "array([[2.21741897e-06+0.03627354j, 2.23964840e-06+0.03627354j,\n",
       "        2.26198759e-06+0.03627354j, ..., 5.53949856e-07+0.03627354j,\n",
       "        5.45443470e-07+0.03627354j, 5.37040854e-07+0.03627354j],\n",
       "       [2.28375014e-06+0.03627354j, 2.30664455e-06+0.03627354j,\n",
       "        2.32965198e-06+0.03627354j, ..., 5.70520539e-07+0.03627354j,\n",
       "        5.61759695e-07+0.03627354j, 5.53105726e-07+0.03627354j],\n",
       "       [2.35194793e-06+0.03627354j, 2.37552601e-06+0.03627354j,\n",
       "        2.39922050e-06+0.03627354j, ..., 5.87557533e-07+0.03627354j,\n",
       "        5.78535072e-07+0.03627354j, 5.69622676e-07+0.03627354j],\n",
       "       ...,\n",
       "       [1.13255769e-02+0.03627354j, 1.14391149e-02+0.03627354j,\n",
       "        1.15532134e-02+0.03627354j, ..., 2.82932626e-03+0.03627354j,\n",
       "        2.78587947e-03+0.03627354j, 2.74296270e-03+0.03627354j],\n",
       "       [1.13712542e-02+0.03627354j, 1.14852501e-02+0.03627354j,\n",
       "        1.15998088e-02+0.03627354j, ..., 2.84073725e-03+0.03627354j,\n",
       "        2.79711523e-03+0.03627354j, 2.75402537e-03+0.03627354j],\n",
       "       [1.14165449e-02+0.03627354j, 1.15309948e-02+0.03627354j,\n",
       "        1.16460098e-02+0.03627354j, ..., 2.85205165e-03+0.03627354j,\n",
       "        2.80825589e-03+0.03627354j, 2.76499441e-03+0.03627354j]])"
      ]
     },
     "execution_count": 8,
     "metadata": {},
     "output_type": "execute_result"
    }
   ],
   "source": [
    "x"
   ]
  },
  {
   "cell_type": "code",
   "execution_count": 6,
   "metadata": {
    "scrolled": true
   },
   "outputs": [
    {
     "data": {
      "text/plain": [
       "['__builtin__',\n",
       " '__builtins__',\n",
       " '__cached__',\n",
       " '__doc__',\n",
       " '__file__',\n",
       " '__loader__',\n",
       " '__name__',\n",
       " '__package__',\n",
       " '__spec__',\n",
       " '_gpcore',\n",
       " '_newclass',\n",
       " '_object',\n",
       " '_swig_getattr',\n",
       " '_swig_property',\n",
       " '_swig_repr',\n",
       " '_swig_setattr',\n",
       " '_swig_setattr_nondynamic',\n",
       " 'fft2d']"
      ]
     },
     "execution_count": 6,
     "metadata": {},
     "output_type": "execute_result"
    }
   ],
   "source": [
    "dir(gpcore)"
   ]
  },
  {
   "cell_type": "code",
   "execution_count": null,
   "metadata": {},
   "outputs": [],
   "source": []
  }
 ],
 "metadata": {
  "kernelspec": {
   "display_name": "Python 3",
   "language": "python",
   "name": "python3"
  },
  "language_info": {
   "codemirror_mode": {
    "name": "ipython",
    "version": 3
   },
   "file_extension": ".py",
   "mimetype": "text/x-python",
   "name": "python",
   "nbconvert_exporter": "python",
   "pygments_lexer": "ipython3",
   "version": "3.6.9"
  },
  "toc": {
   "base_numbering": 1,
   "nav_menu": {
    "height": "12px",
    "width": "252px"
   },
   "number_sections": true,
   "sideBar": true,
   "skip_h1_title": false,
   "title_cell": "Table of Contents",
   "title_sidebar": "Contents",
   "toc_cell": false,
   "toc_position": {},
   "toc_section_display": "block",
   "toc_window_display": false
  }
 },
 "nbformat": 4,
 "nbformat_minor": 2
}
